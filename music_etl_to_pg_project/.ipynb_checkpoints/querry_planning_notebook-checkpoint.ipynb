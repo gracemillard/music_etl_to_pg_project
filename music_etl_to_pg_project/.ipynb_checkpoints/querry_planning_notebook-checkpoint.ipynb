{
 "cells": [
  {
   "cell_type": "markdown",
   "metadata": {},
   "source": [
    "# This is were I'm planning querries\n"
   ]
  },
  {
   "cell_type": "raw",
   "metadata": {},
   "source": [
    "Things to remember \n",
    "\n",
    "-name of db created in createtables.py:\n",
    "sparkifydb\n",
    "\n",
    "\n",
    "-autocommits are set to TRUE for the connection session\n",
    "\n",
    "- Create Querries I need\n",
    "[songplay_table_create, user_table_create, song_table_create, artist_table_create, time_table_create]\n",
    "\n",
    "\n",
    "-Drop Querries I need\n",
    " [songplay_table_drop, user_table_drop, song_table_drop, artist_table_drop, time_table_drop]\n",
    "\n"
   ]
  },
  {
   "cell_type": "raw",
   "metadata": {},
   "source": [
    "Add tables"
   ]
  },
  {
   "cell_type": "raw",
   "metadata": {},
   "source": [
    "fact table"
   ]
  },
  {
   "cell_type": "code",
   "execution_count": null,
   "metadata": {},
   "outputs": [],
   "source": [
    "#for songplay_table_create\n",
    "\n",
    "try: \n",
    "    cur.execute(\"CREATE TABLE IF NOT EXISTS songplays (customer_id int, store_id int, spent numeric);\")\n",
    "except psycopg2.Error as e: \n",
    "    print(\"Error: Issue creating table\")\n",
    "    print (e)\n",
    "    "
   ]
  },
  {
   "cell_type": "raw",
   "metadata": {},
   "source": [
    "dimension tables"
   ]
  },
  {
   "cell_type": "code",
   "execution_count": null,
   "metadata": {},
   "outputs": [],
   "source": [
    "#for user_table_create\n",
    "\n",
    "try: \n",
    "    cur.execute(\"CREATE TABLE IF NOT EXISTS songplays (customer_id int, store_id int, spent numeric);\")\n",
    "except psycopg2.Error as e: \n",
    "    print(\"Error: Issue creating table\")\n",
    "    print (e)\n",
    "    "
   ]
  },
  {
   "cell_type": "code",
   "execution_count": null,
   "metadata": {},
   "outputs": [],
   "source": [
    "#for song_table_create\n",
    "\n",
    "try: \n",
    "    cur.execute(\"CREATE TABLE IF NOT EXISTS songplays (customer_id int, store_id int, spent numeric);\")\n",
    "except psycopg2.Error as e: \n",
    "    print(\"Error: Issue creating table\")\n",
    "    print (e)\n",
    "    "
   ]
  },
  {
   "cell_type": "code",
   "execution_count": null,
   "metadata": {},
   "outputs": [],
   "source": [
    "#for artist_table_create\n",
    "\n",
    "try: \n",
    "    cur.execute(\"CREATE TABLE IF NOT EXISTS songplays (customer_id int, store_id int, spent numeric);\")\n",
    "except psycopg2.Error as e: \n",
    "    print(\"Error: Issue creating table\")\n",
    "    print (e)\n",
    "    "
   ]
  },
  {
   "cell_type": "code",
   "execution_count": null,
   "metadata": {},
   "outputs": [],
   "source": [
    "#for time_table_create\n",
    "\n",
    "try: \n",
    "    cur.execute(\"CREATE TABLE IF NOT EXISTS songplays (customer_id int, store_id int, spent numeric);\")\n",
    "except psycopg2.Error as e: \n",
    "    print(\"Error: Issue creating table\")\n",
    "    print (e)\n",
    "    "
   ]
  },
  {
   "cell_type": "raw",
   "metadata": {},
   "source": [
    "Drop tables"
   ]
  },
  {
   "cell_type": "code",
   "execution_count": null,
   "metadata": {},
   "outputs": [],
   "source": [
    "#songplay_table_drop\n",
    "try: \n",
    "    cur.execute(\"DROP table customer_transactions\")\n",
    "except psycopg2.Error as e: \n",
    "    print(\"Error: Dropping table\")\n",
    "    print (e)\n",
    "    \n",
    "#user_table_drop\n",
    "\n",
    "try: \n",
    "    cur.execute(\"DROP table customer_transactions\")\n",
    "except psycopg2.Error as e: \n",
    "    print(\"Error: Dropping table\")\n",
    "    print (e)\n",
    "    \n",
    "#song_table_drop\n",
    "\n",
    "try: \n",
    "    cur.execute(\"DROP table customer_transactions\")\n",
    "except psycopg2.Error as e: \n",
    "    print(\"Error: Dropping table\")\n",
    "    print (e)\n",
    "    \n",
    "#artist_table_drop\n",
    "\n",
    "try: \n",
    "    cur.execute(\"DROP table customer_transactions\")\n",
    "except psycopg2.Error as e: \n",
    "    print(\"Error: Dropping table\")\n",
    "    print (e)\n",
    "    \n",
    "#time_table_drop\n",
    "\n",
    "try: \n",
    "    cur.execute(\"DROP table customer_transactions\")\n",
    "except psycopg2.Error as e: \n",
    "    print(\"Error: Dropping table\")\n",
    "    print (e)"
   ]
  }
 ],
 "metadata": {
  "kernelspec": {
   "display_name": "udacity env",
   "language": "python",
   "name": "udacity"
  },
  "language_info": {
   "codemirror_mode": {
    "name": "ipython",
    "version": 3
   },
   "file_extension": ".py",
   "mimetype": "text/x-python",
   "name": "python",
   "nbconvert_exporter": "python",
   "pygments_lexer": "ipython3",
   "version": "3.8.5"
  }
 },
 "nbformat": 4,
 "nbformat_minor": 4
}
