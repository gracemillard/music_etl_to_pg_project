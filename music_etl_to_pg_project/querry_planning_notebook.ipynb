{
 "cells": [
  {
   "cell_type": "markdown",
   "metadata": {},
   "source": [
    "# This is where I'm planning querries\n"
   ]
  },
  {
   "cell_type": "raw",
   "metadata": {},
   "source": [
    "Things to remember \n",
    "\n",
    "-name of db created in createtables.py:\n",
    "sparkifydb\n",
    "\n",
    "\n",
    "-autocommits are set to TRUE for the connection session\n",
    "\n",
    "- Create Querries I need\n",
    "[songplay_table_create, user_table_create, song_table_create, artist_table_create, time_table_create]\n",
    "\n",
    "\n",
    "-Drop Querries I need\n",
    " [songplay_table_drop, user_table_drop, song_table_drop, artist_table_drop, time_table_drop]\n",
    "\n"
   ]
  },
  {
   "cell_type": "raw",
   "metadata": {},
   "source": [
    "Add tables"
   ]
  },
  {
   "cell_type": "raw",
   "metadata": {},
   "source": [
    "fact table"
   ]
  },
  {
   "cell_type": "code",
   "execution_count": null,
   "metadata": {},
   "outputs": [],
   "source": [
    "#for songplay_table_create\n",
    "#NOTE: check data to see what type location should be, could be an adresss, coordinates, ect...\n",
    "# I also dont know what user_agent is\n",
    "\n",
    "try: \n",
    "    cur.execute(\"CREATE TABLE IF NOT EXISTS songplays \\\n",
    "    (songplay_id SERIAL PRIMARY KEY,\\\n",
    "    user_id VARCHAR NOT NULL, \\\n",
    "    song_id VARCHAR NOT NULL,\\\n",
    "    artist_id VARCHAR NOT NULL, \\\n",
    "    session_id VARCHAR NOT NULL, \\\n",
    "    location VARCHAR,\\\n",
    "    user_agent VARCHAR\\\n",
    "    start_time TIMESTAMP NOT NULL,\\\n",
    "    level VARCHAR,\\\n",
    "    );\")\n",
    "except psycopg2.Error as e: \n",
    "    print(\"Error: Issue creating table\")\n",
    "    print (e)\n",
    "    \n",
    "    \n",
    "    "
   ]
  },
  {
   "cell_type": "raw",
   "metadata": {},
   "source": [
    "dimension tables"
   ]
  },
  {
   "cell_type": "code",
   "execution_count": null,
   "metadata": {},
   "outputs": [],
   "source": [
    "#for user_table_create\n",
    "\n",
    "try: \n",
    "    cur.execute(\"CREATE TABLE IF NOT EXISTS users \\\n",
    "    (user_id VARCHAR PRIMARY KEY,\\\n",
    "     first_n VARCHAR,\\\n",
    "     last_n VARCHAR,\\\n",
    "     level VARCHAR);\")\n",
    "except psycopg2.Error as e: \n",
    "    print(\"Error: Issue creating table\")\n",
    "    print (e)\n",
    "    "
   ]
  },
  {
   "cell_type": "code",
   "execution_count": null,
   "metadata": {},
   "outputs": [],
   "source": [
    "#for artist_table_create\n",
    "\n",
    "try: \n",
    "    cur.execute(\"CREATE TABLE IF NOT EXISTS artists\\\n",
    "    (artist_id VARCHAR PRIMARY KEY,\\\n",
    "    name VARCHAR,\\\n",
    "    location VARCHAR,\\\n",
    "    latitude FLOAT,\\\n",
    "    longitude FLOAT);\")\n",
    "except psycopg2.Error as e: \n",
    "    print(\"Error: Issue creating table\")\n",
    "    print (e)\n",
    "    "
   ]
  },
  {
   "cell_type": "code",
   "execution_count": null,
   "metadata": {},
   "outputs": [],
   "source": [
    "#for song_table_create\n",
    "\n",
    "try: \n",
    "    cur.execute(\"CREATE TABLE IF NOT EXISTS songs\\\n",
    "    (song_id VARCHAR PRIMARY KEY,\\\n",
    "    artist_id VARCHAR,\\\n",
    "    name VARCHAR,\\\n",
    "    duration FLOAT,\\\n",
    "    year INT);\")\n",
    "except psycopg2.Error as e: \n",
    "    print(\"Error: Issue creating table\")\n",
    "    print (e)\n",
    "    "
   ]
  },
  {
   "cell_type": "code",
   "execution_count": null,
   "metadata": {},
   "outputs": [],
   "source": [
    "#for time_table_create\n",
    "\n",
    "try: \n",
    "    cur.execute(\"CREATE TABLE IF NOT EXISTS timetable \\\n",
    "    (session_id VARCHAR,\\\n",
    "    start_time TIMESTAMP,\\\n",
    "    hour INT,\\\n",
    "    day INT,\\\n",
    "    week INT, \\\n",
    "    month INT,\\\n",
    "    year INT,\\\n",
    "    weekday VARCHAR);\")\n",
    "except psycopg2.Error as e: \n",
    "    print(\"Error: Issue creating table\")\n",
    "    print (e)\n",
    "    "
   ]
  },
  {
   "cell_type": "raw",
   "metadata": {},
   "source": [
    "Drop tables"
   ]
  },
  {
   "cell_type": "code",
   "execution_count": null,
   "metadata": {},
   "outputs": [],
   "source": [
    "#songplay_table_drop\n",
    "try: \n",
    "    cur.execute(\"DROP table IF EXISTS songplays\")\n",
    "except psycopg2.Error as e: \n",
    "    print(\"Error: Dropping table\")\n",
    "    print (e)\n",
    "    \n",
    "#user_table_drop\n",
    "\n",
    "try: \n",
    "    cur.execute(\"DROP table IF EXISTS users\")\n",
    "except psycopg2.Error as e: \n",
    "    print(\"Error: Dropping table\")\n",
    "    print (e)\n",
    "    \n",
    "#song_table_drop\n",
    "\n",
    "try: \n",
    "    cur.execute(\"DROP table IF EXISTS songs\")\n",
    "except psycopg2.Error as e: \n",
    "    print(\"Error: Dropping table\")\n",
    "    print (e)\n",
    "    \n",
    "#artist_table_drop\n",
    "\n",
    "try: \n",
    "    cur.execute(\"DROP table IF EXISTS artists\")\n",
    "except psycopg2.Error as e: \n",
    "    print(\"Error: Dropping table\")\n",
    "    print (e)\n",
    "    \n",
    "#time_table_drop\n",
    "\n",
    "try: \n",
    "    cur.execute(\"DROP table IF EXISTS timetable\")\n",
    "except psycopg2.Error as e: \n",
    "    print(\"Error: Dropping table\")\n",
    "    print (e)"
   ]
  },
  {
   "cell_type": "raw",
   "metadata": {},
   "source": [
    "To make writes into tables"
   ]
  },
  {
   "cell_type": "code",
   "execution_count": null,
   "metadata": {},
   "outputs": [],
   "source": [
    "#songplays\n",
    "try: \n",
    "    cur.execute(\"INSERT INTO songplays \\\n",
    "    (songplay_id, user_id, song_id, artist_id, session_id, location, user_agent, start_time, level)\\\n",
    "    VALUES(%s, %s, %s, %s, %s, %s, %s, %s, %s)\\\n",
    "    ON CONFLICT ON CONSTRAINT songplays_pkey\\\n",
    "    DO NOTHING\\\n",
    "    \"\"\")\n",
    "except psycopg2.Error as e: \n",
    "    print(\"Error: Issue writing data\")"
   ]
  },
  {
   "cell_type": "code",
   "execution_count": null,
   "metadata": {},
   "outputs": [],
   "source": [
    "\n",
    "#users\n",
    "try: \n",
    "    cur.execute(\"INSERT INTO users \\\n",
    "    (user_id, first_n, last_n, level)\\\n",
    "    VALUES(%s, %s, %s, %s)\\\n",
    "    ON CONFLICT ON CONSTRAINT users_pkey\\\n",
    "    DO UPDATE SET level=EXCLUDED.level\\\n",
    "    \"\"\")\n",
    "except psycopg2.Error as e: \n",
    "    print(\"Error: Issue writing data\")\n",
    "\n",
    "    \n",
    "    \n",
    "#songs\n",
    "try: \n",
    "    cur.execute(\"INSERT INTO songs \\\n",
    "    (song_id, artist_id, name, duration, year)\\\n",
    "    VALUES(%s, %s, %s, %s, %s)\\\n",
    "    ON CONFLICT ON CONSTRAINT songs_pkey\\\n",
    "    DO NOTHING\\\n",
    "    \"\"\")\n",
    "except psycopg2.Error as e: \n",
    "    print(\"Error: Issue writing data\")\n",
    "\n",
    "    \n",
    "    \n",
    "#artists\n",
    "try: \n",
    "    cur.execute(\"INSERT INTO artists \\\n",
    "    (artist_id, name, location, latitude, longitude)\\\n",
    "    VALUES(%s, %s, %s, %s, %s)\\\n",
    "    ON CONFLICT ON CONSTRAINT artists_pkey\\\n",
    "    DO NOTHING\\\n",
    "    \"\"\")\n",
    "except psycopg2.Error as e: \n",
    "    print(\"Error: Issue writing data\")\n",
    "\n",
    "\n",
    "    \n",
    "#timetable \n",
    "try: \n",
    "    cur.execute(\"INSERT INTO timetable \\\n",
    "    (session_id,start_time, hour, day, week, month, year, weekday)\\\n",
    "    VALUES(%s, %s, %s, %s, %s, %s, %s, %s)\\\n",
    "    ON CONFLICT ON CONSTRAINT timetable_pkey\\\n",
    "    DO NOTHING\\\n",
    "    \"\"\")\n",
    "except psycopg2.Error as e: \n",
    "    print(\"Error: Issue writing data\")\n",
    "   \n",
    "\n",
    "    "
   ]
  }
 ],
 "metadata": {
  "kernelspec": {
   "display_name": "udacity env",
   "language": "python",
   "name": "udacity"
  },
  "language_info": {
   "codemirror_mode": {
    "name": "ipython",
    "version": 3
   },
   "file_extension": ".py",
   "mimetype": "text/x-python",
   "name": "python",
   "nbconvert_exporter": "python",
   "pygments_lexer": "ipython3",
   "version": "3.8.5"
  }
 },
 "nbformat": 4,
 "nbformat_minor": 4
}